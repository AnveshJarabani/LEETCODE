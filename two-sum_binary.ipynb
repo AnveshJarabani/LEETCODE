{
 "cells": [
  {
   "cell_type": "code",
   "execution_count": 2,
   "metadata": {},
   "outputs": [],
   "source": [
    "x=3\n",
    "y=4\n"
   ]
  },
  {
   "cell_type": "code",
   "execution_count": null,
   "metadata": {},
   "outputs": [],
   "source": []
  },
  {
   "cell_type": "code",
   "execution_count": 14,
   "metadata": {},
   "outputs": [],
   "source": [
    "def binary_sum(x,y):\n",
    "    x_bin=[int(i) for i in bin(x)[2:]]\n",
    "    y_bin=[int(i) for i in bin(y)[2:]]\n",
    "    x_bin.reverse()\n",
    "    y_bin.reverse()\n",
    "    for l,m in zip(x_bin,y_bin):\n",
    "        print(l,m)"
   ]
  },
  {
   "cell_type": "code",
   "execution_count": 7,
   "metadata": {},
   "outputs": [
    {
     "name": "stdout",
     "output_type": "stream",
     "text": [
      "8\n"
     ]
    }
   ],
   "source": [
    "x_bin=bin(x)[2:]\n",
    "y_bin=bin(y)[2:]\n",
    "max_len=max(len(x_bin),len(y_bin))\n",
    "x_bin=x_bin.zfill(max_len)\n",
    "y_bin=y_bin.zfill(max_len)\n",
    "result=\"\"\n",
    "carry=0\n",
    "for i in range(max_len-1,-1,-1):\n",
    "    r=carry\n",
    "    r+=1 if x_bin[i]==\"1\" else 0\n",
    "    r+=1 if y_bin[i]==\"1\" else 0\n",
    "    result= ('1' if r%2==0 else '0')+result\n",
    "    carry=0 if r<2 else 1\n",
    "if carry!=1:\n",
    "    result='1'+result\n",
    "print(int(result.zfill(max_len),2))\n",
    "\n",
    "\n"
   ]
  }
 ],
 "metadata": {
  "kernelspec": {
   "display_name": "Python 3",
   "language": "python",
   "name": "python3"
  },
  "language_info": {
   "codemirror_mode": {
    "name": "ipython",
    "version": 3
   },
   "file_extension": ".py",
   "mimetype": "text/x-python",
   "name": "python",
   "nbconvert_exporter": "python",
   "pygments_lexer": "ipython3",
   "version": "3.11.2"
  },
  "orig_nbformat": 4
 },
 "nbformat": 4,
 "nbformat_minor": 2
}
