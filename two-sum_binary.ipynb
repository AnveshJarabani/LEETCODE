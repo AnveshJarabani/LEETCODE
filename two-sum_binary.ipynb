{
 "cells": [
  {
   "cell_type": "code",
   "execution_count": 1,
   "metadata": {},
   "outputs": [],
   "source": [
    "x=3\n",
    "y=4\n"
   ]
  },
  {
   "cell_type": "code",
   "execution_count": 14,
   "metadata": {},
   "outputs": [],
   "source": [
    "def binary_sum(x,y):\n",
    "    x_bin=[int(i) for i in bin(x)[2:]]\n",
    "    y_bin=[int(i) for i in bin(y)[2:]]\n",
    "    x_bin.reverse()\n",
    "    y_bin.reverse()\n",
    "    for l,m in zip(x_bin,y_bin):\n",
    "        print(l,m)"
   ]
  },
  {
   "cell_type": "code",
   "execution_count": 19,
   "metadata": {},
   "outputs": [
    {
     "name": "stdout",
     "output_type": "stream",
     "text": [
      "1 0\n",
      "1 0\n"
     ]
    },
    {
     "data": {
      "text/plain": [
       "([1, 1], [0, 0, 1])"
      ]
     },
     "execution_count": 19,
     "metadata": {},
     "output_type": "execute_result"
    }
   ],
   "source": [
    "x_bin=[int(i) for i in bin(x)[2:]]\n",
    "y_bin=[int(i) for i in bin(y)[2:]]\n",
    "x_bin.reverse()\n",
    "y_bin.reverse()\n",
    "for l,m in zip(x_bin,y_bin):\n",
    "    print(l,m)\n",
    "x_bin,y_bin\n",
    "\n",
    "\n"
   ]
  }
 ],
 "metadata": {
  "kernelspec": {
   "display_name": "Python 3",
   "language": "python",
   "name": "python3"
  },
  "language_info": {
   "codemirror_mode": {
    "name": "ipython",
    "version": 3
   },
   "file_extension": ".py",
   "mimetype": "text/x-python",
   "name": "python",
   "nbconvert_exporter": "python",
   "pygments_lexer": "ipython3",
   "version": "3.11.2"
  },
  "orig_nbformat": 4
 },
 "nbformat": 4,
 "nbformat_minor": 2
}
